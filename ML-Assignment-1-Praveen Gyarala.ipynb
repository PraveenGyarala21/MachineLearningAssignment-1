{
 "cells": [
  {
   "cell_type": "code",
   "execution_count": 14,
   "id": "1dcd65c5",
   "metadata": {},
   "outputs": [
    {
     "name": "stdout",
     "output_type": "stream",
     "text": [
      "Sorted List: [19, 19, 20, 22, 24, 24, 24, 25, 25, 26]\n",
      "Added min and max age to the sorted List: [19, 19, 20, 22, 24, 24, 24, 25, 25, 26, 19, 26]\n",
      "median age for the list: 24.0\n",
      "Avg age is = 22.75\n",
      "Range of ages= 7\n"
     ]
    }
   ],
   "source": [
    "#ques 1-program\n",
    "\n",
    "\n",
    "ages = [19, 22, 19, 24, 20, 25, 26, 24, 25, 24]          #-- given list\n",
    "ages.sort()                                              #-- Performing the sorting on the given list\n",
    "print(\"Sorted List:\", ages)                              #-- Print the sorted ages\n",
    "ages.append(min(ages)), ages.append(max(ages))           #-- appending the min and max ages to the list again\n",
    "print(\"Added min and max age to the sorted List:\",ages)  #-- Print the ages with min and max added\n",
    "def medianFunction(data):                                #-- defining a function for getting median based on odd/even lengths of the given lenght\n",
    "    med = len(data) // 2\n",
    "    if not len(data) % 2:\n",
    "        return (data[med - 1] + data[med]) / 2.0\n",
    "    return data[med]\n",
    "print(\"median age for the list:\", medianFunction(ages))\n",
    "avg = 0 \n",
    "for i in ages:                                           #-- calculate the lenght on the given list\n",
    "    avg = avg+i\n",
    "print(\"Avg age is =\",avg/len(ages))                      #-- print average of the list\n",
    "print(\"Range of ages=\", (max(ages)-min(ages)))           #-- print range of the list items"
   ]
  },
  {
   "cell_type": "code",
   "execution_count": 6,
   "id": "01704e2d",
   "metadata": {},
   "outputs": [
    {
     "name": "stdout",
     "output_type": "stream",
     "text": [
      "Student Dictionary length 9\n",
      "Student skills ['Java', 'Testing'] & Data type of skills is <class 'list'>\n",
      "['first_name', 'last_name', 'gender', 'age', 'maritial_status', 'skills', 'country', 'city', 'address']\n",
      "values ['Praveen', 'Gyarala', 'Male', 29, 'single', ['Java', 'Testing', 'HTML', 'Root cause'], 'India', 'Hyderabad', '8033 West 123rd terrace']\n"
     ]
    }
   ],
   "source": [
    "#ques 2-program\n",
    "\n",
    "dog=dict()                                                                #-- Created an empty dictionary called dog                         \n",
    "dog={\"Name\":\"\",\"Color\":\"\",\"Breed\":\"\",\"Legs\":\"\",\"Age\":\"\"}                  #-- Added given items as keys and empty values to dictionary\n",
    "student_Dictionary={\"first_name\":\"Praveen\",\"last_name\":\"Gyarala\",         #-- Created a student dictionary   \n",
    "\"gender\":\"Male\",\"age\":29,\"maritial_status\":\"single\",\"skills\":[\"Java\",\"Testing\"],\n",
    "\"country\":\"India\",\"city\":\"Hyderabad\",\"address\":\"8033 West 123rd terrace\"}\n",
    "print(\"Student Dictionary length\",len(student_Dictionary))                #-- Student dictionary length \n",
    "print(\"Student skills\",student_Dictionary[\"skills\"], \"& Data type of skills is\",type(student_Dictionary[\"skills\"]))  #-- skills value and its data type\n",
    "student_Dictionary[\"skills\"]=student_Dictionary[\"skills\"]+[\"HTML\",\"Root cause\" #-- updating the skills values\n",
    "DList = list(student_Dictionary.keys())                                   #-- dictionary keys as a list\n",
    "DList = list(student_Dictionary.keys())                                   #-- dictionary values as a list\n",
    "print(DList)\n",
    "print(\"values\",list(student_Dictionary.values()))"
   ]
  },
  {
   "cell_type": "code",
   "execution_count": 7,
   "id": "22014f98",
   "metadata": {},
   "outputs": [
    {
     "name": "stdout",
     "output_type": "stream",
     "text": [
      "Siblings ('Satish', 'Pavan', 'Shyam', 'Saleem', 'Shalini', 'Deepika')\n",
      "Total  6  siblings\n",
      "('Satish', 'Pavan', 'Shyam', 'Saleem', 'Shalini', 'Deepika', 'Praveen', 'Rohith')\n"
     ]
    }
   ],
   "source": [
    "#ques 3-Program\n",
    "\n",
    "bros=(\"Satish\",\"Pavan\",\"Shyam\",\"Saleem\")                              #-- Bros tuple\n",
    "siss=(\"Shalini\",\"Deepika\")                                            #-- Siss tuple\n",
    "siblings=bros+siss                                                    #-- Siblings tuple copy by adding\n",
    "print(\"Siblings\",siblings)                                                     \n",
    "print(\"Total \",len(siblings), \" siblings\")\n",
    "siblings=siblings+(\"Praveen\",\"Rohith\")                               #-- Modifying the siblings tuple and setting it to family_members tuple\n",
    "familyMembers=siblings\n",
    "print(familyMembers)"
   ]
  },
  {
   "cell_type": "code",
   "execution_count": 23,
   "id": "4095f4f5",
   "metadata": {},
   "outputs": [
    {
     "name": "stdout",
     "output_type": "stream",
     "text": [
      "Total IT companies  7\n",
      "Added new Company  {'Microsoft', 'Twitter', 'IBM', 'Oracle', 'Google', 'Amazon', 'Apple', 'Facebook'}\n",
      "Added multiple IT companies  {'Dell', 'Twitter', 'Google', 'Amazon', 'Microsoft', 'Mwebware', 'Techwave', 'Apple', 'Oracle', 'IBM', 'Facebook'}\n",
      "After removing one IT company  {'Dell', 'Twitter', 'Google', 'Amazon', 'Microsoft', 'Techwave', 'Apple', 'Oracle', 'IBM', 'Facebook'}\n",
      "A Union B  {19, 20, 22, 24, 25, 26, 27, 28}\n",
      "A Intersection B  {19, 20, 22, 24, 25, 26}\n",
      "is A is subset of B : True\n",
      "is A and B are disjoint sets : False\n",
      "the symmetric difference between A and B : {27, 28}\n",
      "deleting set A and B  None None\n",
      "converted age list to set  {19, 22, 24, 25, 26}\n",
      "Comparing the length of the list and the set by making difference between length of age list and length of age set is  3\n"
     ]
    }
   ],
   "source": [
    "#ques 4-Program\n",
    "\n",
    "it_companies = {'Facebook', 'Google', 'Microsoft', 'Apple', 'IBM', 'Oracle', 'Amazon'}\n",
    "A = {19, 22, 24, 20, 25, 26}\n",
    "B = {19, 22, 20, 25, 26, 24, 28, 27}\n",
    "age = [22, 19, 24, 25, 26, 24, 25, 24]\n",
    " \n",
    "lengthOfIT = len(it_companies)\n",
    "print(\"Total IT companies \",lengthOfIT)             #-- length of it IT companies set\n",
    "it_companies.add(\"Twitter\")                         #-- added twitter to set\n",
    "print(\"Added new Company \",it_companies)\n",
    "it_companies.update([\"Techwave\",\"Mwebware\",\"Dell\"])\n",
    "print(\"Added multiple IT companies \",it_companies)\n",
    "it_companies.remove(\"Mwebware\")\n",
    "print(\"After removing one IT company \",it_companies)\n",
    "#----\n",
    "# Difference between remove and discard ? ----- \n",
    "#--- Ans :remove() method will raise an error if the specified item does not exist, and the discard() method will not.\n",
    "#----\n",
    "AB_Joined=A.union(B)\n",
    "print(\"A Union B \",AB_Joined)\n",
    "AB_INtersection=A.intersection(B)\n",
    "\n",
    "print(\"A Intersection B \",AB_INtersection)\n",
    "print(\"is A is subset of B :\",A.issubset(B))\n",
    "print(\"is A and B are disjoint sets :\",A.isdisjoint(B))\n",
    "print(\"the symmetric difference between A and B :\",A.symmetric_difference(B))\n",
    "print(\"deleting set A and B \", A.clear(), B.clear())\n",
    "AgeSet=set(age)                    #--converting age list to a set\n",
    "print(\"converted age list to set \",AgeSet)\n",
    "print(\"Comparing the length of the list and the set by making difference between length of age list and length of age set is \",\n",
    "      len(age)-len(AgeSet)) #--comparing lengths of the list and set"
   ]
  },
  {
   "cell_type": "code",
   "execution_count": 9,
   "id": "93a70c65",
   "metadata": {},
   "outputs": [
    {
     "name": "stdout",
     "output_type": "stream",
     "text": [
      "Please enter the radius: 30\n",
      "radius of the circle is:  30\n",
      "Area of Circle  2826.0\n",
      "Circumference of circle  188.4\n"
     ]
    }
   ],
   "source": [
    "#ques 5-Program\n",
    "\n",
    "rad = int(input(\"Please enter the radius: \"))                     #-- radius to be entered on run time\n",
    "print(\"radius of the circle is: \",rad)                           \n",
    "_area_of_circle_=3.14*rad*rad                                     #-- area formula pi*(r to the power of 2)\n",
    "_circum_of_circle_=2*3.14*rad                                     #-- circumference of given circle calculation formula 2Pi(r^2)\n",
    "print(\"Area of Circle \",_area_of_circle_)                         #-- printing in to the console\n",
    "print(\"Circumference of circle \",_circum_of_circle_)"
   ]
  },
  {
   "cell_type": "code",
   "execution_count": 10,
   "id": "dfc14059",
   "metadata": {},
   "outputs": [
    {
     "name": "stdout",
     "output_type": "stream",
     "text": [
      "No.of unique words are  10\n"
     ]
    }
   ],
   "source": [
    "#ques 6-Program\n",
    "\n",
    "given_sentence=\"I am a teacher and I love to inspire and teach people\"\n",
    "unique_words=set(given_sentence.split())                                            #-- Split function by default uses whiteSpaces as the separator in the string sentence\n",
    "print(\"No.of unique words are \",len(unique_words))                                  #-- printing number of unique word from the given sentence using length function"
   ]
  },
  {
   "cell_type": "code",
   "execution_count": 12,
   "id": "bace0f23",
   "metadata": {},
   "outputs": [
    {
     "name": "stdout",
     "output_type": "stream",
     "text": [
      "Name\tAge\tCountry\tCity\n",
      "Praveen\t29\tInida\tHyderabad\n"
     ]
    }
   ],
   "source": [
    "#ques 7-Program\n",
    "\n",
    "print(\"Name\\tAge\\tCountry\\tCity\\nPraveen\\t29\\tInida\\tHyderabad\")        #--making use of backwards slash t and n for tab key stroke and next line"
   ]
  },
  {
   "cell_type": "code",
   "execution_count": 13,
   "id": "0ccf1b0c",
   "metadata": {},
   "outputs": [
    {
     "name": "stdout",
     "output_type": "stream",
     "text": [
      "Area of a circle with radius 10 is 314.0 meters square.\n"
     ]
    }
   ],
   "source": [
    "#ques 8-Program\n",
    "\n",
    "r = 10\n",
    "area = 3.14 * r ** 2\n",
    "print(\"Area of a circle with radius %s is %s meters square.\" %(r,area))    #-- Formatting string using % operator"
   ]
  },
  {
   "cell_type": "code",
   "execution_count": null,
   "id": "8e54775f",
   "metadata": {},
   "outputs": [
    {
     "name": "stdout",
     "output_type": "stream",
     "text": [
      "Enter list  size:30\n"
     ]
    }
   ],
   "source": [
    "#Ques 9-Program\n",
    "\n",
    "n = int(input(\"Enter list  size:\"))\n",
    "lbs = []                                                             # List of weight in lbs\n",
    "kgs = [[]]*n                                                          # List of weight in kgs                                  # Taking the weight in lbs\n",
    "for i in range(n):                                                   # For loop to take input from the user\n",
    "    ele = int(input(\"Enter weights(lbs) of N students\"))             # Taking the weight in lbs.\n",
    "    lbs.append(ele)                                                  # appending the weights from the user to list lbs\n",
    "for i in range(n):\n",
    "    kgs[i] = lbs[i]/2.2046                                           # Converting into weights\n",
    "kgs\n",
    "       "
   ]
  },
  {
   "cell_type": "code",
   "execution_count": null,
   "id": "220c5a1e",
   "metadata": {},
   "outputs": [],
   "source": [
    "#Ques 10-Program\n",
    "\n",
    "import numpy as np\n",
    "#sklearn is a package where we find Machine Learning algorithms \n",
    "from sklearn.model_selection import train_test_split #tran_test_split to split data \n",
    "from sklearn.neighbors import KNeighborsClassifier #To implement KNN \n",
    "X = np.array([[1,0], [2,0],[3,0],[6,0],[6,0],[7,0],[10,0],[11,0]]) #Datasets obtained from the given graph\n",
    "y = np.array([0,0,1,1,1,0,0,0]) #classes present at the respective data points \n",
    "#splitting the data into two equal half. first half is for training and later is for testing \n",
    "x_train, x_test, y_train, y_test = train_test_split(x,y, test_size = 0.5, random_state = 0, shuffle = False) \n",
    "print(x_train) \n",
    "print(y_train) \n",
    "neighbor = KNeighbors Classifier (n_neighbors = 3) #implementing KNN with k=3 \n",
    "neighbor.fit(x_train,y_train) #fit the KNN from the training data\n",
    "y_pred = neighbor predict(x_test) #predict the output for the data\n",
    "y_pred #print the predictions"
   ]
  },
  {
   "cell_type": "code",
   "execution_count": null,
   "id": "11e8f5f3",
   "metadata": {},
   "outputs": [],
   "source": []
  },
  {
   "cell_type": "code",
   "execution_count": null,
   "id": "afa5a296",
   "metadata": {},
   "outputs": [],
   "source": []
  }
 ],
 "metadata": {
  "kernelspec": {
   "display_name": "Python 3 (ipykernel)",
   "language": "python",
   "name": "python3"
  },
  "language_info": {
   "codemirror_mode": {
    "name": "ipython",
    "version": 3
   },
   "file_extension": ".py",
   "mimetype": "text/x-python",
   "name": "python",
   "nbconvert_exporter": "python",
   "pygments_lexer": "ipython3",
   "version": "3.9.12"
  }
 },
 "nbformat": 4,
 "nbformat_minor": 5
}
